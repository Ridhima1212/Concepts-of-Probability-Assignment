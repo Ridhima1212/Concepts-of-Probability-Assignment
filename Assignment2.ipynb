{
 "cells": [
  {
   "cell_type": "code",
   "execution_count": 7,
   "id": "b2036c64-9b07-4951-9920-5480e8407e83",
   "metadata": {},
   "outputs": [],
   "source": [
    "import random\n",
    "import numpy as np\n",
    "import matplotlib.pyplot as plt"
   ]
  },
  {
   "cell_type": "code",
   "execution_count": 10,
   "id": "edcb5781-6af3-4dc9-81e4-f9271a5396d1",
   "metadata": {},
   "outputs": [
    {
     "name": "stdout",
     "output_type": "stream",
     "text": [
      "Defaulting to user installation because normal site-packages is not writeable\n",
      "Requirement already satisfied: matplotlib in c:\\users\\ridhima\\appdata\\roaming\\python\\python313\\site-packages (3.10.5)\n",
      "Requirement already satisfied: contourpy>=1.0.1 in c:\\users\\ridhima\\appdata\\roaming\\python\\python313\\site-packages (from matplotlib) (1.3.3)\n",
      "Requirement already satisfied: cycler>=0.10 in c:\\users\\ridhima\\appdata\\roaming\\python\\python313\\site-packages (from matplotlib) (0.12.1)\n",
      "Requirement already satisfied: fonttools>=4.22.0 in c:\\users\\ridhima\\appdata\\roaming\\python\\python313\\site-packages (from matplotlib) (4.59.0)\n",
      "Requirement already satisfied: kiwisolver>=1.3.1 in c:\\users\\ridhima\\appdata\\roaming\\python\\python313\\site-packages (from matplotlib) (1.4.9)\n",
      "Requirement already satisfied: numpy>=1.23 in c:\\users\\ridhima\\appdata\\roaming\\python\\python313\\site-packages (from matplotlib) (2.2.6)\n",
      "Requirement already satisfied: packaging>=20.0 in c:\\users\\ridhima\\appdata\\roaming\\python\\python313\\site-packages (from matplotlib) (25.0)\n",
      "Requirement already satisfied: pillow>=8 in c:\\users\\ridhima\\appdata\\roaming\\python\\python313\\site-packages (from matplotlib) (11.3.0)\n",
      "Requirement already satisfied: pyparsing>=2.3.1 in c:\\users\\ridhima\\appdata\\roaming\\python\\python313\\site-packages (from matplotlib) (3.2.3)\n",
      "Requirement already satisfied: python-dateutil>=2.7 in c:\\users\\ridhima\\appdata\\roaming\\python\\python313\\site-packages (from matplotlib) (2.9.0.post0)\n",
      "Requirement already satisfied: six>=1.5 in c:\\users\\ridhima\\appdata\\roaming\\python\\python313\\site-packages (from python-dateutil>=2.7->matplotlib) (1.17.0)\n",
      "Note: you may need to restart the kernel to use updated packages.\n"
     ]
    },
    {
     "name": "stderr",
     "output_type": "stream",
     "text": [
      "\n",
      "[notice] A new release of pip is available: 25.1.1 -> 25.2\n",
      "[notice] To update, run: python.exe -m pip install --upgrade pip\n"
     ]
    }
   ],
   "source": [
    "pip install matplotlib"
   ]
  },
  {
   "cell_type": "markdown",
   "id": "63ff0e98-a464-4c65-a00b-e709bd27c923",
   "metadata": {},
   "source": [
    "1. a. We toss a fair coin many times and count heads/tails. The proportion of heads and tails gives us the experimental probability."
   ]
  },
  {
   "cell_type": "code",
   "execution_count": 9,
   "id": "b77b4ff4-bf4b-4c5e-b21e-c48f2e03f4f1",
   "metadata": {},
   "outputs": [
    {
     "name": "stdout",
     "output_type": "stream",
     "text": [
      "Heads Probability: 0.4969\n",
      "Tails Probability: 0.5031\n"
     ]
    }
   ],
   "source": [
    "# Simulate tossing a coin 10,000 times\n",
    "trials = 10000\n",
    "heads = 0\n",
    "tails = 0\n",
    "\n",
    "for _ in range(trials):\n",
    "    toss = random.choice([\"H\", \"T\"])\n",
    "    if toss == \"H\":\n",
    "        heads += 1\n",
    "    else:\n",
    "        tails += 1\n",
    "\n",
    "# Calculate experimental probabilities\n",
    "p_heads = heads / trials\n",
    "p_tails = tails / trials\n",
    "\n",
    "print(f\"Heads Probability: {p_heads:.4f}\")\n",
    "print(f\"Tails Probability: {p_tails:.4f}\")\n"
   ]
  },
  {
   "cell_type": "markdown",
   "id": "94f479e0-ef24-4419-83a8-375d6f75977c",
   "metadata": {},
   "source": [
    "1. b. We roll two dice and count how often the sum equals 7. The frequency over total trials gives the probability."
   ]
  },
  {
   "cell_type": "code",
   "execution_count": 11,
   "id": "1c23fa1e-ce0c-4a5d-8345-781bc0df888a",
   "metadata": {},
   "outputs": [
    {
     "name": "stdout",
     "output_type": "stream",
     "text": [
      "Probability of sum = 7: 0.1740\n"
     ]
    }
   ],
   "source": [
    "# Simulate rolling two dice\n",
    "trials = 10000\n",
    "count_sum7 = 0\n",
    "\n",
    "for _ in range(trials):\n",
    "    die1 = random.randint(1, 6)\n",
    "    die2 = random.randint(1, 6)\n",
    "    if die1 + die2 == 7:\n",
    "        count_sum7 += 1\n",
    "\n",
    "p_sum7 = count_sum7 / trials\n",
    "print(f\"Probability of sum = 7: {p_sum7:.4f}\")\n"
   ]
  },
  {
   "cell_type": "markdown",
   "id": "0dc067de-7c51-4d24-806e-7133fefa890f",
   "metadata": {},
   "source": [
    "2. We roll a die 10 times in each trial and check if at least one roll is 6. The proportion of such trials gives the estimated probability."
   ]
  },
  {
   "cell_type": "code",
   "execution_count": 12,
   "id": "6fe11708-aba0-48dc-ac31-e602ce634fbb",
   "metadata": {},
   "outputs": [
    {
     "name": "stdout",
     "output_type": "stream",
     "text": [
      "Probability of at least one '6' in 10 rolls: 0.8356\n"
     ]
    }
   ],
   "source": [
    "def probability_at_least_one_six(trials=10000):\n",
    "    success_count = 0\n",
    "\n",
    "    for _ in range(trials):\n",
    "        rolls = [random.randint(1, 6) for _ in range(10)]\n",
    "        if 6 in rolls:\n",
    "            success_count += 1\n",
    "\n",
    "    return success_count / trials\n",
    "\n",
    "p_one_six = probability_at_least_one_six()\n",
    "print(f\"Probability of at least one '6' in 10 rolls: {p_one_six:.4f}\")\n"
   ]
  },
  {
   "cell_type": "markdown",
   "id": "46d8462d-9a83-4888-aad9-a598b508b7ca",
   "metadata": {},
   "source": [
    "3. We record sequences of ball colors. The conditional probability P(Red | Previous was Blue) is computed directly. Then we verify Bayes’ theorem using simulated frequencies."
   ]
  },
  {
   "cell_type": "code",
   "execution_count": 13,
   "id": "89fe42e8-6380-4707-99f6-3509b002e850",
   "metadata": {},
   "outputs": [
    {
     "name": "stdout",
     "output_type": "stream",
     "text": [
      "P(Red | Previous Blue): 0.2748\n",
      "Bayes Theorem Result: 0.2746\n"
     ]
    }
   ],
   "source": [
    "colors = [\"R\"]*5 + [\"G\"]*7 + [\"B\"]*8\n",
    "trials = 1000\n",
    "sequence = []\n",
    "\n",
    "# Simulate draws with replacement\n",
    "for _ in range(trials):\n",
    "    ball = random.choice(colors)\n",
    "    sequence.append(ball)\n",
    "\n",
    "# Count conditional probability: P(Red | Previous was Blue)\n",
    "count_blue_then_red = 0\n",
    "count_prev_blue = 0\n",
    "\n",
    "for i in range(1, len(sequence)):\n",
    "    if sequence[i-1] == \"B\":\n",
    "        count_prev_blue += 1\n",
    "        if sequence[i] == \"R\":\n",
    "            count_blue_then_red += 1\n",
    "\n",
    "p_red_given_blue = count_blue_then_red / count_prev_blue\n",
    "print(f\"P(Red | Previous Blue): {p_red_given_blue:.4f}\")\n",
    "\n",
    "# Bayes Theorem Verification\n",
    "# P(R|Bprev) ≈ (P(Bprev|R) * P(R)) / P(Bprev)\n",
    "p_R = sequence.count(\"R\") / trials\n",
    "p_Bprev = count_prev_blue / (trials - 1)\n",
    "\n",
    "# P(Bprev|R)\n",
    "count_R = sequence.count(\"R\")\n",
    "count_R_with_prev_B = sum(1 for i in range(1, trials) if sequence[i] == \"R\" and sequence[i-1] == \"B\")\n",
    "p_Bprev_given_R = count_R_with_prev_B / count_R\n",
    "\n",
    "bayes_p = (p_Bprev_given_R * p_R) / p_Bprev\n",
    "print(f\"Bayes Theorem Result: {bayes_p:.4f}\")\n"
   ]
  },
  {
   "cell_type": "markdown",
   "id": "6f5d365d-b93a-4d2b-8d22-c5dd9c00d68f",
   "metadata": {},
   "source": [
    "4. We generate values according to the given probability distribution, then calculate mean, variance, and standard deviation using NumPy."
   ]
  },
  {
   "cell_type": "code",
   "execution_count": 14,
   "id": "6d62c887-55e5-4300-829f-711ffc69da53",
   "metadata": {},
   "outputs": [
    {
     "name": "stdout",
     "output_type": "stream",
     "text": [
      "Mean: 2.1240\n",
      "Variance: 0.6326\n",
      "Standard Deviation: 0.7954\n"
     ]
    }
   ],
   "source": [
    "values = [1, 2, 3]\n",
    "probabilities = [0.25, 0.35, 0.40]\n",
    "\n",
    "sample = np.random.choice(values, size=1000, p=probabilities)\n",
    "\n",
    "mean = np.mean(sample)\n",
    "variance = np.var(sample)\n",
    "std_dev = np.std(sample)\n",
    "\n",
    "print(f\"Mean: {mean:.4f}\")\n",
    "print(f\"Variance: {variance:.4f}\")\n",
    "print(f\"Standard Deviation: {std_dev:.4f}\")\n"
   ]
  },
  {
   "cell_type": "markdown",
   "id": "e4dbe930-1ed0-4b21-93b3-bb1e3355413f",
   "metadata": {},
   "source": [
    "5. We simulate exponential random variables and plot their histogram with the theoretical probability density function."
   ]
  },
  {
   "cell_type": "code",
   "execution_count": 15,
   "id": "5750ccdd-2fdb-4f5c-b9e6-04a39c9d43eb",
   "metadata": {},
   "outputs": [
    {
     "data": {
      "image/png": "[encoded data removed]",
      "text/plain": [
       "<Figure size 640x480 with 1 Axes>"
      ]
     },
     "metadata": {},
     "output_type": "display_data"
    }
   ],
   "source": [
    "# Mean = 5, so scale parameter (1/lambda) = 5\n",
    "samples = np.random.exponential(scale=5, size=2000)\n",
    "\n",
    "# Plot histogram\n",
    "plt.hist(samples, bins=30, density=True, alpha=0.6, color='g', label=\"Histogram\")\n",
    "\n",
    "# Plot PDF overlay\n",
    "x = np.linspace(0, max(samples), 1000)\n",
    "pdf = (1/5) * np.exp(-x/5)\n",
    "plt.plot(x, pdf, 'r', label=\"PDF\")\n",
    "\n",
    "plt.title(\"Exponential Distribution (mean=5)\")\n",
    "plt.xlabel(\"Value\")\n",
    "plt.ylabel(\"Density\")\n",
    "plt.legend()\n",
    "plt.show()\n"
   ]
  },
  {
   "cell_type": "markdown",
   "id": "fa09757b-38e4-4569-9687-49866d51d8bb",
   "metadata": {},
   "source": [
    "6. The uniform data is flat, but the distribution of sample means is approximately normal, illustrating the Central Limit Theorem."
   ]
  },
  {
   "cell_type": "code",
   "execution_count": 16,
   "id": "07856fc9-78fe-4436-b85c-58a286df082f",
   "metadata": {},
   "outputs": [
    {
     "data": {
      "image/png": "[encoded data removed]",
      "text/plain": [
       "<Figure size 640x480 with 1 Axes>"
      ]
     },
     "metadata": {},
     "output_type": "display_data"
    },
    {
     "data": {
      "image/png": "[encoded data removed]",
      "text/plain": [
       "<Figure size 640x480 with 1 Axes>"
      ]
     },
     "metadata": {},
     "output_type": "display_data"
    }
   ],
   "source": [
    "# Generate 10,000 uniform random numbers\n",
    "uniform_data = np.random.uniform(0, 1, 10000)\n",
    "\n",
    "# Take 1000 samples of size n=30 and compute means\n",
    "sample_means = []\n",
    "for _ in range(1000):\n",
    "    sample = np.random.choice(uniform_data, size=30)\n",
    "    sample_means.append(np.mean(sample))\n",
    "\n",
    "# Plot uniform distribution\n",
    "plt.hist(uniform_data, bins=30, density=True, alpha=0.6, color='b')\n",
    "plt.title(\"Uniform Distribution\")\n",
    "plt.xlabel(\"Value\")\n",
    "plt.ylabel(\"Density\")\n",
    "plt.show()\n",
    "\n",
    "# Plot distribution of sample means\n",
    "plt.hist(sample_means, bins=30, density=True, alpha=0.6, color='orange')\n",
    "plt.title(\"Distribution of Sample Means (n=30)\")\n",
    "plt.xlabel(\"Sample Mean\")\n",
    "plt.ylabel(\"Density\")\n",
    "plt.show()\n"
   ]
  },
  {
   "cell_type": "code",
   "execution_count": null,
   "id": "c74eaae0-b5de-4555-b603-743134020684",
   "metadata": {},
   "outputs": [],
   "source": []
  }
 ],
 "metadata": {
  "kernelspec": {
   "display_name": "Python 3 (ipykernel)",
   "language": "python",
   "name": "python3"
  },
  "language_info": {
   "codemirror_mode": {
    "name": "ipython",
    "version": 3
   },
   "file_extension": ".py",
   "mimetype": "text/x-python",
   "name": "python",
   "nbconvert_exporter": "python",
   "pygments_lexer": "ipython3",
   "version": "3.13.5"
  }
 },
 "nbformat": 4,
 "nbformat_minor": 5
}
